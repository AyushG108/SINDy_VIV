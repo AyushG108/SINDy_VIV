{
  "nbformat": 4,
  "nbformat_minor": 0,
  "metadata": {
    "colab": {
      "provenance": []
    },
    "kernelspec": {
      "name": "python3",
      "display_name": "Python 3"
    },
    "language_info": {
      "name": "python"
    }
  },
  "cells": [
    {
      "cell_type": "code",
      "source": [
        "!pip install pysindy"
      ],
      "metadata": {
        "colab": {
          "base_uri": "https://localhost:8080/"
        },
        "id": "txSqbAlWfyxo",
        "outputId": "13d700a7-0b04-4417-fad0-49577de30187"
      },
      "execution_count": null,
      "outputs": [
        {
          "output_type": "stream",
          "name": "stdout",
          "text": [
            "Collecting pysindy\n",
            "  Downloading pysindy-1.7.5-py3-none-any.whl (121 kB)\n",
            "\u001b[2K     \u001b[90m━━━━━━━━━━━━━━━━━━━━━━━━━━━━━━━━━━━━━━━━\u001b[0m \u001b[32m121.0/121.0 kB\u001b[0m \u001b[31m1.2 MB/s\u001b[0m eta \u001b[36m0:00:00\u001b[0m\n",
            "\u001b[?25hRequirement already satisfied: scikit-learn>=0.23 in /usr/local/lib/python3.10/dist-packages (from pysindy) (1.2.2)\n",
            "Requirement already satisfied: numpy in /usr/local/lib/python3.10/dist-packages (from pysindy) (1.25.2)\n",
            "Requirement already satisfied: scipy in /usr/local/lib/python3.10/dist-packages (from pysindy) (1.11.4)\n",
            "Collecting derivative (from pysindy)\n",
            "  Downloading derivative-0.6.2-py3-none-any.whl (14 kB)\n",
            "Requirement already satisfied: matplotlib in /usr/local/lib/python3.10/dist-packages (from pysindy) (3.7.1)\n",
            "Requirement already satisfied: cmake in /usr/local/lib/python3.10/dist-packages (from pysindy) (3.27.9)\n",
            "Requirement already satisfied: scs!=2.1.4,>=2.1 in /usr/local/lib/python3.10/dist-packages (from pysindy) (3.2.6)\n",
            "Requirement already satisfied: joblib>=1.1.1 in /usr/local/lib/python3.10/dist-packages (from scikit-learn>=0.23->pysindy) (1.4.2)\n",
            "Requirement already satisfied: threadpoolctl>=2.0.0 in /usr/local/lib/python3.10/dist-packages (from scikit-learn>=0.23->pysindy) (3.5.0)\n",
            "Collecting importlib-metadata<8.0.0,>=7.1.0 (from derivative->pysindy)\n",
            "  Downloading importlib_metadata-7.2.1-py3-none-any.whl (25 kB)\n",
            "Requirement already satisfied: contourpy>=1.0.1 in /usr/local/lib/python3.10/dist-packages (from matplotlib->pysindy) (1.2.1)\n",
            "Requirement already satisfied: cycler>=0.10 in /usr/local/lib/python3.10/dist-packages (from matplotlib->pysindy) (0.12.1)\n",
            "Requirement already satisfied: fonttools>=4.22.0 in /usr/local/lib/python3.10/dist-packages (from matplotlib->pysindy) (4.53.1)\n",
            "Requirement already satisfied: kiwisolver>=1.0.1 in /usr/local/lib/python3.10/dist-packages (from matplotlib->pysindy) (1.4.5)\n",
            "Requirement already satisfied: packaging>=20.0 in /usr/local/lib/python3.10/dist-packages (from matplotlib->pysindy) (24.1)\n",
            "Requirement already satisfied: pillow>=6.2.0 in /usr/local/lib/python3.10/dist-packages (from matplotlib->pysindy) (9.4.0)\n",
            "Requirement already satisfied: pyparsing>=2.3.1 in /usr/local/lib/python3.10/dist-packages (from matplotlib->pysindy) (3.1.2)\n",
            "Requirement already satisfied: python-dateutil>=2.7 in /usr/local/lib/python3.10/dist-packages (from matplotlib->pysindy) (2.8.2)\n",
            "Requirement already satisfied: zipp>=0.5 in /usr/local/lib/python3.10/dist-packages (from importlib-metadata<8.0.0,>=7.1.0->derivative->pysindy) (3.19.2)\n",
            "Requirement already satisfied: six>=1.5 in /usr/local/lib/python3.10/dist-packages (from python-dateutil>=2.7->matplotlib->pysindy) (1.16.0)\n",
            "Installing collected packages: importlib-metadata, derivative, pysindy\n",
            "  Attempting uninstall: importlib-metadata\n",
            "    Found existing installation: importlib_metadata 8.0.0\n",
            "    Uninstalling importlib_metadata-8.0.0:\n",
            "      Successfully uninstalled importlib_metadata-8.0.0\n",
            "Successfully installed derivative-0.6.2 importlib-metadata-7.2.1 pysindy-1.7.5\n"
          ]
        }
      ]
    },
    {
      "cell_type": "code",
      "execution_count": null,
      "metadata": {
        "colab": {
          "base_uri": "https://localhost:8080/"
        },
        "id": "4lOCSzGudhNy",
        "outputId": "215f0f33-650d-44b5-bdee-17a224edbc31"
      },
      "outputs": [
        {
          "output_type": "stream",
          "name": "stdout",
          "text": [
            "Dimensions - Y: Q: (99999, 1) U: (99999, 1)\n",
            "(q)' = 17.639 u + -0.894 u^3 + -8.559 sin(1 u) + 0.504 sin(2 u)\n",
            "(u)' = -8.202 q + 2.947 u + -0.237 q^3 + -2.950 q^2 u + -1.853 sin(1 q)\n"
          ]
        }
      ],
      "source": [
        "import pandas as pd\n",
        "import numpy as np\n",
        "import pysindy as ps\n",
        "\n",
        "\n",
        "#df_y = pd.read_csv('displacement_time_series_csv')  # Assuming this contains y (amplitude) data\n",
        "df_q = pd.read_csv('q_time_series_csv')  # Assuming this contains q (control variable) data\n",
        "df_u = pd.read_csv('u_time_series_csv')  # Assuming this contains u (q_dot) data\n",
        "\n",
        "\n",
        "print(\"Dimensions - Y:\", \"Q:\", df_q.shape, \"U:\", df_u.shape)\n",
        "\n",
        "# Align data\n",
        "min_rows = min(df_q.shape[0], df_u.shape[0])\n",
        "#df_y = df_y.iloc[:min_rows]\n",
        "df_q = df_q.iloc[:min_rows]\n",
        "df_u = df_u.iloc[:min_rows]\n",
        "\n",
        "\n",
        "#Y = df_y.values.flatten().reshape(-1, 1)\n",
        "Q = df_q.values.flatten().reshape(-1, 1)\n",
        "U = df_u.values.flatten().reshape(-1, 1)\n",
        "\n",
        "\n",
        "X_train = np.hstack([Q, U])\n",
        "\n",
        "\n",
        "\n",
        "\n",
        "\n",
        "dt = 0.01\n",
        "\n",
        "\n",
        "feature_names = ['q', 'u']\n",
        "\n",
        "\n",
        "differentiation_method = ps.FiniteDifference(order=2)\n",
        "\n",
        "\n",
        "optimizer = ps.STLSQ(threshold=0.1)\n",
        "\n",
        "\n",
        "polynomial_library = ps.PolynomialLibrary(degree=5)\n",
        "fourier_library = ps.FourierLibrary(n_frequencies=5)\n",
        "combined_library = polynomial_library + fourier_library\n",
        "\n",
        "# Initialize SINDy model\n",
        "model = ps.SINDy(feature_names=feature_names, optimizer=optimizer,\n",
        "                 differentiation_method=differentiation_method, feature_library=combined_library)\n",
        "\n",
        "# Fit the model\n",
        "model.fit(X_train, t=dt)\n",
        "\n",
        "# Print the model\n",
        "model.print()\n"
      ]
    },
    {
      "cell_type": "code",
      "source": [
        "df_q.shape"
      ],
      "metadata": {
        "colab": {
          "base_uri": "https://localhost:8080/"
        },
        "id": "Pkjonj6Sg7HU",
        "outputId": "bc7970fb-4ee6-4214-d8bd-8385aa8f5930"
      },
      "execution_count": null,
      "outputs": [
        {
          "output_type": "execute_result",
          "data": {
            "text/plain": [
              "(99999, 1)"
            ]
          },
          "metadata": {},
          "execution_count": 4
        }
      ]
    },
    {
      "cell_type": "code",
      "source": [
        "df_u.shape"
      ],
      "metadata": {
        "colab": {
          "base_uri": "https://localhost:8080/"
        },
        "id": "iGRk60_9g88T",
        "outputId": "6504c5c0-c7c5-463e-8332-8727009fa56e"
      },
      "execution_count": null,
      "outputs": [
        {
          "output_type": "execute_result",
          "data": {
            "text/plain": [
              "(99999, 1)"
            ]
          },
          "metadata": {},
          "execution_count": 5
        }
      ]
    },
    {
      "cell_type": "code",
      "source": [
        "import pandas as pd\n",
        "import numpy as np\n",
        "import pysindy as ps\n",
        "\n",
        "\n",
        "#df_y = pd.read_csv('displacement_time_series_csv')\n",
        "df_q = pd.read_csv('q_time_series_csv')\n",
        "#df_u = pd.read_csv('u_time_series_csv')\n",
        "\n",
        "\n",
        "print(\"Dimensions - Y:\", \"Q:\", df_q.shape, \"U:\", df_u.shape)\n",
        "\n",
        "# Align data\n",
        "min_rows = min(df_q.shape[0], df_u.shape[0])\n",
        "#df_y = df_y.iloc[:min_rows]\n",
        "df_q = df_q.iloc[:min_rows]\n",
        "#df_u = df_u.iloc[:min_rows]\n",
        "\n",
        "\n",
        "#Y = df_y.values.flatten().reshape(-1, 1)\n",
        "Q = df_q.values.flatten().reshape(-1, 1)\n",
        "#U = df_u.values.flatten().reshape(-1, 1)\n",
        "\n",
        "\n",
        "X_train = np.hstack([Q])\n",
        "\n",
        "\n",
        "\n",
        "\n",
        "\n",
        "dt = 0.01\n",
        "\n",
        "\n",
        "feature_names = ['q']\n",
        "\n",
        "\n",
        "differentiation_method = ps.FiniteDifference(order=2)\n",
        "\n",
        "\n",
        "optimizer = ps.STLSQ(threshold=0.1)\n",
        "\n",
        "\n",
        "polynomial_library = ps.PolynomialLibrary(degree=5)\n",
        "fourier_library = ps.FourierLibrary(n_frequencies=5)\n",
        "combined_library = polynomial_library + fourier_library\n",
        "\n",
        "\n",
        "model = ps.SINDy(feature_names=feature_names, optimizer=optimizer,\n",
        "                 differentiation_method=differentiation_method, feature_library=combined_library)\n",
        "\n",
        "model.fit(X_train, t=dt)\n",
        "\n",
        "\n",
        "model.print()\n"
      ],
      "metadata": {
        "colab": {
          "base_uri": "https://localhost:8080/"
        },
        "id": "GrC6PODLj15A",
        "outputId": "11f5e2f3-871c-4c0a-f9a4-cd6fd6bb2d26"
      },
      "execution_count": null,
      "outputs": [
        {
          "output_type": "stream",
          "name": "stdout",
          "text": [
            "Dimensions - Y: Q: (99999, 1) U: (99999, 1)\n",
            "(q)' = 1999.777 1 + 8.775 q + -894.298 q^2 + -1.043 q^3 + 48.700 q^4 + -9.732 sin(1 q) + -2082.102 cos(1 q) + 0.501 sin(2 q) + 90.642 cos(2 q) + -9.186 cos(3 q) + 0.934 cos(4 q)\n"
          ]
        }
      ]
    },
    {
      "cell_type": "code",
      "source": [
        "def q_dot_prime(q, q_dot):\n",
        "    return (0.074\n",
        "            + 0.400 * q\n",
        "            + 29.462 * q_dot\n",
        "            + -0.018 * q**2\n",
        "            + 0.005 * q * q_dot\n",
        "            + -0.017 * q_dot**2\n",
        "            + 0.002 * q**3\n",
        "            + 0.089 * q**2 * q_dot\n",
        "            + -0.397 * q * q_dot**2\n",
        "            + 0.025 * q_dot**3)\n",
        "\n",
        "def u_dot_prime(q, q_dot):\n",
        "    return (0.016\n",
        "            + -32.394 * q\n",
        "            + 9.744 * q_dot\n",
        "            + -0.004 * q**2\n",
        "            + 0.002 * q * q_dot\n",
        "            + -0.004 * q_dot**2\n",
        "            + 0.636 * q**3\n",
        "            + -8.206 * q**2 * q_dot\n",
        "            + 0.797 * q * q_dot**2\n",
        "            + -0.455 * q_dot**3)\n"
      ],
      "metadata": {
        "id": "UczAyMm1-iH9"
      },
      "execution_count": null,
      "outputs": []
    },
    {
      "cell_type": "code",
      "source": [
        "import numpy as np\n",
        "from scipy.integrate import odeint\n",
        "from scipy.optimize import fsolve\n",
        "import matplotlib.pyplot as plt\n",
        "\n",
        "# Constants\n",
        "St = 0.2\n",
        "M = 2.43e-4\n",
        "mu = 195.56\n",
        "gamma = 0.8\n",
        "epsilon = 0.3\n",
        "A = 12\n",
        "xi = 0.013 / mu\n",
        "AM = A * M\n",
        "\n",
        "# Bicubic equation\n",
        "def bi_cubic_eq(omega, delta, xi, gamma, mu, AM):\n",
        "    C = (2 * xi * delta + gamma / mu) ** 2\n",
        "    G = AM * (delta ** 2 - omega ** 2)\n",
        "\n",
        "    term1 = omega ** 6\n",
        "    term2 = -(1 + 2 * delta ** 2 - C) * omega ** 4\n",
        "    term3 = -(-2 * delta ** 2 + C - delta ** 4) * omega ** 2\n",
        "    term4 = -delta ** 4 + G\n",
        "\n",
        "    return term1 + term2 + term3 + term4\n",
        "\n",
        "\n",
        "def calculate_parameters(Ur):\n",
        "    delta = 1 / (St * Ur)\n",
        "    omega_roots = fsolve(lambda omega: bi_cubic_eq(omega, delta, xi, gamma, mu, AM), 1.0)\n",
        "    omega = omega_roots[0]\n",
        "    C = (2 * xi * delta + gamma / mu) ** 2\n",
        "    q_0 = 2 * (1 + (AM * C) / (epsilon * (delta ** 2 - omega ** 2) ** 2 + (2 * xi * delta + (gamma / mu)) ** 2 * omega ** 2))\n",
        "    y_0 = q_0 * (M * ((delta ** 2 - omega ** 2) ** 2 + (2 * xi * delta + gamma / mu) ** 2 * omega ** 2)) ** 0.5\n",
        "    phi = -np.arctan(((2 * xi * delta + gamma / mu) * omega) / (delta ** 2 - omega ** 2))\n",
        "    return delta, omega, q_0, y_0, phi\n",
        "\n",
        "\n",
        "def q_dot_prime(q, q_dot):\n",
        "    return (0.074\n",
        "            + 0.400 * q\n",
        "            + 29.462 * q_dot\n",
        "            - 0.018 * q**2\n",
        "            + 0.005 * q * q_dot\n",
        "            - 0.017 * q_dot**2\n",
        "            + 0.002 * q**3\n",
        "            + 0.089 * q**2 * q_dot\n",
        "            - 0.397 * q * q_dot**2\n",
        "            + 0.025 * q_dot**3)\n",
        "\n",
        "def u_dot_prime(q, q_dot):\n",
        "    return (0.016\n",
        "            - 32.394 * q\n",
        "            + 9.744 * q_dot\n",
        "            - 0.004 * q**2\n",
        "            + 0.002 * q * q_dot\n",
        "            - 0.004 * q_dot**2\n",
        "            + 0.636 * q**3\n",
        "            - 8.206 * q**2 * q_dot\n",
        "            + 0.797 * q * q_dot**2\n",
        "            - 0.455 * q_dot**3)\n",
        "\n",
        "# Define the coupled ODE system\n",
        "def coupled_ode(state, t, xi, delta, M, q_0, y_0, omega, phi, gamma, mu, epsilon, A):\n",
        "    y, v, q, q_dot = state\n",
        "    s = M * q_0 * np.sin(omega * t + phi)\n",
        "    f = -A * omega**2 * y_0 * np.cos(omega * t)\n",
        "\n",
        "    y_dot = v\n",
        "    v_dot = s - (2 * xi * delta + (gamma / mu)) * v - delta ** 2 * y\n",
        "    q_prime = q_dot_prime(q, q_dot)\n",
        "    u_prime = u_dot_prime(q, q_dot)\n",
        "\n",
        "    return [y_dot, v_dot, q_prime, u_prime]\n",
        "\n",
        "# Time points\n",
        "t_points = np.linspace(0, 30000, 100000)\n",
        "\n",
        "# Ur values\n",
        "Ur_values = [4.7, 5.0, 5.4]\n",
        "\n",
        "# Initialize the plot\n",
        "fig, axs = plt.subplots(len(Ur_values), 1, figsize=(10, 12))\n",
        "\n",
        "q_series = []\n",
        "q_dot_series = []\n",
        "\n",
        "# Iterate over each Ur value\n",
        "for i, Ur in enumerate(Ur_values):\n",
        "    delta, omega, q_0, y_0, phi = calculate_parameters(Ur)\n",
        "    initial_state = [0, 0, 0, 0]\n",
        "    solution = odeint(coupled_ode, initial_state, t_points, args=(xi, delta, M, q_0, y_0, omega, phi, gamma, mu, epsilon, A))\n",
        "    y_t = solution[:, 0]\n",
        "    max_amplitude = np.max(np.abs(y_t))\n",
        "    q_t = solution[:, 2]\n",
        "    q_dot_t = solution[:, 3]\n",
        "    q_series.append(q_t)\n",
        "    q_dot_series.append(q_dot_t)\n",
        "\n",
        "    # Plot the amplitude over time\n",
        "    axs[i].plot(t_points, y_t)\n",
        "    axs[i].set_xlabel('Time')\n",
        "    axs[i].set_ylabel('Amplitude (y)')\n",
        "    axs[i].set_title(f'Amplitude over time for Ur = {Ur}')\n",
        "\n",
        "    print(f\"Max amplitude for Ur = {Ur}: {max_amplitude}\")\n",
        "\n",
        "plt.tight_layout()\n",
        "plt.show()\n"
      ],
      "metadata": {
        "colab": {
          "base_uri": "https://localhost:8080/",
          "height": 1000
        },
        "id": "HiBr92cS-kVx",
        "outputId": "e2af9e9a-0bf0-4712-b4b3-1f016fc62fd5"
      },
      "execution_count": null,
      "outputs": [
        {
          "output_type": "stream",
          "name": "stdout",
          "text": [
            "Max amplitude for Ur = 4.7: 0.0059502410468238245\n"
          ]
        },
        {
          "output_type": "stream",
          "name": "stderr",
          "text": [
            "<ipython-input-10-2a7944a4affe>:36: RuntimeWarning: divide by zero encountered in scalar divide\n",
            "  phi = -np.arctan(((2 * xi * delta + gamma / mu) * omega) / (delta ** 2 - omega ** 2))\n"
          ]
        },
        {
          "output_type": "stream",
          "name": "stdout",
          "text": [
            "Max amplitude for Ur = 5.0: 0.1153986717598401\n",
            "Max amplitude for Ur = 5.4: 0.006050186847893523\n"
          ]
        },
        {
          "output_type": "display_data",
          "data": {
            "text/plain": [
              "<Figure size 1000x1200 with 3 Axes>"
            ],
            "image/png": "[encoded data removed]"
          },
          "metadata": {}
        }
      ]
    },
    {
      "cell_type": "code",
      "source": [
        "'''\n",
        "    return (\n",
        "        1999.777 * 1 +\n",
        "        8.775 * q +\n",
        "        -894.298 * q**2 +\n",
        "        -1.043 * q**3 +\n",
        "        48.700 * q**4 +\n",
        "        -9.732 * np.sin(1 * q) +\n",
        "        -2082.102 * np.cos(1 * q) +\n",
        "        0.501 * np.sin(2 * q) +\n",
        "        90.642 * np.cos(2 * q) +\n",
        "        -9.186 * np.cos(3 * q) +\n",
        "        0.934 * np.cos(4 * q)\n",
        "    )\n",
        "\n",
        "    '''\n",
        "\n",
        "\n",
        "\n",
        "'''\n",
        "\n",
        "   return (\n",
        "        -20.681 * np.sin(q)\n",
        "        + 0.850 * np.sin(q_dot)\n",
        "        + 5.419 * np.sin(2 * q)\n",
        "        - 8.804 * np.sin(2 * q_dot)\n",
        "        - 3.873 * np.sin(3 * q)\n",
        "        + 4.113 * np.sin(3 * q_dot)\n",
        "        + 1.731 * np.sin(4 * q)\n",
        "        - 1.026 * np.sin(4 * q_dot)\n",
        "        - 0.225 * np.sin(5 * q)\n",
        "    )\n",
        "    '''\n",
        "'''\n",
        "    return (0.003 + -1.853 * np.sin(q)\n",
        "        - 8.202 * q\n",
        "        + 2.947 * q_dot\n",
        "        - 0.237 * q**3\n",
        "        - 2.950 * q**2 * q_dot)\n",
        "        '''\n",
        "\n",
        "\n",
        "\n",
        "\n",
        "\n",
        "\n",
        "\n",
        "\n",
        "\n",
        "\n",
        "'''\n",
        "\n",
        "-738.071 * np.sin(q) + 47.945 * np.cos(q)\n",
        "        - 24.340 * np.sin(q_dot) + 8.591 * np.cos(q_dot)\n",
        "        + 66.822 * np.sin(2 * q) - 8.532 * np.cos(2 * q)\n",
        "        + 2.142 * np.sin(2 * q_dot) - 1.658 * np.cos(2 * q_dot)\n",
        "        - 11.165 * np.sin(3 * q) + 2.067 * np.cos(3 * q)\n",
        "        - 0.343 * np.sin(3 * q_dot) + 0.442 * np.cos(3 * q_dot)\n",
        "        + 1.893 * np.sin(4 * q) - 0.447 * np.cos(4 * q)\n",
        "        + 0.046 * np.sin(4 * q_dot) - 0.127 * np.cos(4 * q_dot)\n",
        "        - 0.215 * np.sin(5 * q) + 0.059 * np.cos(5 * q)\n",
        "        - 0.012 * np.sin(5 * q_dot) + 0.019 * np.cos(5 * q_dot)\n",
        "        - 48.415 - 621.369 * q + 23.931 * q_dot\n",
        "        + 13.378 * q**2 + 0.001 * q * q_dot + 2.346 * q_dot**2\n",
        "        - 68.267 * q**3 - 2.976 * q**2 * q_dot\n",
        "        + 0.012 * q * q_dot**2 - 2.295 * q_dot**3\n",
        "        '''\n",
        "\n",
        "\n",
        "\n",
        "\n",
        " -738.071 * np.sin(1 * q) + 47.945 * np.cos(1 * q) +\n",
        "        -24.340 * np.sin(1 * q_dot) + 8.591 * np.cos(1 * q_dot) +\n",
        "        66.822 * np.sin(2 * q) + -8.532 * np.cos(2 * q) +\n",
        "        2.142 * np.sin(2 * q_dot) + -1.658 * np.cos(2 * q_dot) +\n",
        "        -11.165 * np.sin(3 * q) + 2.067 * np.cos(3 * q) +\n",
        "        -0.343 * np.sin(3 * q_dot) + 0.442 * np.cos(3 * q_dot) +\n",
        "        1.893 * np.sin(4 * q) + -0.447 * np.cos(4 * q) +\n",
        "        0.046 * np.sin(4 * q_dot) + -0.127 * np.cos(4 * q_dot) +\n",
        "        -0.215 * np.sin(5 * q) + 0.059 * np.cos(5 * q) +\n",
        "        -0.012 * np.sin(5 * q_dot) + 0.019 * np.cos(5 * q_dot) +\n",
        "        -48.415 * 1 + 621.369 * q + 23.931 * q_dot +\n",
        "        13.378 * q**2 + 0.001 * q * q_dot + 2.346 * q_dot**2 +\n",
        "        -68.267 * q**3 + -2.976 * q**2 * q_dot + 0.012 * q * q_dot**2 + -2.295 * q_dot**3"
      ],
      "metadata": {
        "id": "0_pJLQAK6IcX"
      },
      "execution_count": null,
      "outputs": []
    },
    {
      "cell_type": "code",
      "source": [
        "import pandas as pd\n",
        "import numpy as np\n",
        "import pysindy as ps\n",
        "\n",
        "\n",
        "#df_y = pd.read_csv('displacement_time_series_csv')\n",
        "df_q = pd.read_csv('q_time_series_data.csv')\n",
        "df_u = pd.read_csv('q_dot_time_series_neo.csv')\n",
        "\n",
        "\n",
        "print(\"Dimensions - Y:\", \"Q:\", df_q.shape, \"U:\", df_u.shape)\n",
        "\n",
        "# Align data\n",
        "min_rows = min(df_q.shape[0], df_u.shape[0])\n",
        "#df_y = df_y.iloc[:min_rows]\n",
        "df_q = df_q.iloc[:min_rows]\n",
        "df_u = df_u.iloc[:min_rows]\n",
        "\n",
        "\n",
        "#Y = df_y.values.flatten().reshape(-1, 1)\n",
        "Q = df_q.values.flatten().reshape(-1, 1)\n",
        "U = df_u.values.flatten().reshape(-1, 1)\n",
        "\n",
        "\n",
        "X_train = np.hstack([Q, U])\n",
        "\n",
        "\n",
        "\n",
        "\n",
        "\n",
        "dt = 0.01\n",
        "\n",
        "\n",
        "feature_names = ['q', 'u']\n",
        "\n",
        "\n",
        "differentiation_method = ps.FiniteDifference(order=2)\n",
        "\n",
        "\n",
        "optimizer = ps.STLSQ(threshold=0)\n",
        "\n",
        "\n",
        "polynomial_library = ps.PolynomialLibrary(degree=3)\n",
        "#fourier_library = ps.FourierLibrary(n_frequencies=5)\n",
        "combined_library = polynomial_library\n",
        "\n",
        "\n",
        "model = ps.SINDy(feature_names=feature_names, optimizer=optimizer,\n",
        "                 differentiation_method=differentiation_method, feature_library=combined_library)\n",
        "\n",
        "model.fit(X_train, t=dt)\n",
        "\n",
        "\n",
        "model.print()\n"
      ],
      "metadata": {
        "colab": {
          "base_uri": "https://localhost:8080/"
        },
        "id": "YNcM3dnxvRKZ",
        "outputId": "cbb7e38c-a203-43ab-98c5-ce85af54b776"
      },
      "execution_count": null,
      "outputs": [
        {
          "output_type": "stream",
          "name": "stdout",
          "text": [
            "Dimensions - Y: Q: (299999, 1) U: (299999, 1)\n",
            "(q)' = 0.074 1 + 0.400 q + 29.462 u + -0.018 q^2 + 0.005 q u + -0.017 u^2 + 0.002 q^3 + 0.089 q^2 u + -0.397 q u^2 + 0.025 u^3\n",
            "(u)' = 0.016 1 + -32.394 q + 9.744 u + -0.004 q^2 + 0.002 q u + -0.004 u^2 + 0.636 q^3 + -8.206 q^2 u + 0.797 q u^2 + -0.455 u^3\n"
          ]
        }
      ]
    },
    {
      "cell_type": "code",
      "source": [
        "!pip install pysindy"
      ],
      "metadata": {
        "colab": {
          "base_uri": "https://localhost:8080/"
        },
        "id": "AoUZyyCHJJwo",
        "outputId": "737a6dd8-e7c7-44b1-b9ac-21a2fea777d4"
      },
      "execution_count": null,
      "outputs": [
        {
          "output_type": "stream",
          "name": "stdout",
          "text": [
            "Collecting pysindy\n",
            "  Downloading pysindy-1.7.5-py3-none-any.whl (121 kB)\n",
            "\u001b[2K     \u001b[90m━━━━━━━━━━━━━━━━━━━━━━━━━━━━━━━━━━━━━━━━\u001b[0m \u001b[32m121.0/121.0 kB\u001b[0m \u001b[31m2.4 MB/s\u001b[0m eta \u001b[36m0:00:00\u001b[0m\n",
            "\u001b[?25hRequirement already satisfied: scikit-learn>=0.23 in /usr/local/lib/python3.10/dist-packages (from pysindy) (1.2.2)\n",
            "Requirement already satisfied: numpy in /usr/local/lib/python3.10/dist-packages (from pysindy) (1.25.2)\n",
            "Requirement already satisfied: scipy in /usr/local/lib/python3.10/dist-packages (from pysindy) (1.11.4)\n",
            "Collecting derivative (from pysindy)\n",
            "  Downloading derivative-0.6.2-py3-none-any.whl (14 kB)\n",
            "Requirement already satisfied: matplotlib in /usr/local/lib/python3.10/dist-packages (from pysindy) (3.7.1)\n",
            "Requirement already satisfied: cmake in /usr/local/lib/python3.10/dist-packages (from pysindy) (3.27.9)\n",
            "Requirement already satisfied: scs!=2.1.4,>=2.1 in /usr/local/lib/python3.10/dist-packages (from pysindy) (3.2.5)\n",
            "Requirement already satisfied: joblib>=1.1.1 in /usr/local/lib/python3.10/dist-packages (from scikit-learn>=0.23->pysindy) (1.4.2)\n",
            "Requirement already satisfied: threadpoolctl>=2.0.0 in /usr/local/lib/python3.10/dist-packages (from scikit-learn>=0.23->pysindy) (3.5.0)\n",
            "Collecting importlib-metadata<8.0.0,>=7.1.0 (from derivative->pysindy)\n",
            "  Downloading importlib_metadata-7.2.1-py3-none-any.whl (25 kB)\n",
            "Requirement already satisfied: contourpy>=1.0.1 in /usr/local/lib/python3.10/dist-packages (from matplotlib->pysindy) (1.2.1)\n",
            "Requirement already satisfied: cycler>=0.10 in /usr/local/lib/python3.10/dist-packages (from matplotlib->pysindy) (0.12.1)\n",
            "Requirement already satisfied: fonttools>=4.22.0 in /usr/local/lib/python3.10/dist-packages (from matplotlib->pysindy) (4.53.0)\n",
            "Requirement already satisfied: kiwisolver>=1.0.1 in /usr/local/lib/python3.10/dist-packages (from matplotlib->pysindy) (1.4.5)\n",
            "Requirement already satisfied: packaging>=20.0 in /usr/local/lib/python3.10/dist-packages (from matplotlib->pysindy) (24.1)\n",
            "Requirement already satisfied: pillow>=6.2.0 in /usr/local/lib/python3.10/dist-packages (from matplotlib->pysindy) (9.4.0)\n",
            "Requirement already satisfied: pyparsing>=2.3.1 in /usr/local/lib/python3.10/dist-packages (from matplotlib->pysindy) (3.1.2)\n",
            "Requirement already satisfied: python-dateutil>=2.7 in /usr/local/lib/python3.10/dist-packages (from matplotlib->pysindy) (2.8.2)\n",
            "Requirement already satisfied: zipp>=0.5 in /usr/local/lib/python3.10/dist-packages (from importlib-metadata<8.0.0,>=7.1.0->derivative->pysindy) (3.19.2)\n",
            "Requirement already satisfied: six>=1.5 in /usr/local/lib/python3.10/dist-packages (from python-dateutil>=2.7->matplotlib->pysindy) (1.16.0)\n",
            "Installing collected packages: importlib-metadata, derivative, pysindy\n",
            "  Attempting uninstall: importlib-metadata\n",
            "    Found existing installation: importlib_metadata 8.0.0\n",
            "    Uninstalling importlib_metadata-8.0.0:\n",
            "      Successfully uninstalled importlib_metadata-8.0.0\n",
            "Successfully installed derivative-0.6.2 importlib-metadata-7.2.1 pysindy-1.7.5\n"
          ]
        }
      ]
    },
    {
      "cell_type": "code",
      "source": [
        "# Uninstall the current version of importlib-metadata\n",
        "!pip uninstall -y importlib-metadata\n",
        "\n",
        "# Install the compatible version of importlib-metadata\n",
        "!pip install importlib-metadata==7.2.1\n"
      ],
      "metadata": {
        "colab": {
          "base_uri": "https://localhost:8080/",
          "height": 261
        },
        "id": "82OcS3sMO2T2",
        "outputId": "5c729287-855c-4d2b-a666-e4351884af56"
      },
      "execution_count": null,
      "outputs": [
        {
          "output_type": "stream",
          "name": "stdout",
          "text": [
            "Found existing installation: importlib_metadata 7.2.1\n",
            "Uninstalling importlib_metadata-7.2.1:\n",
            "  Successfully uninstalled importlib_metadata-7.2.1\n",
            "Collecting importlib-metadata==7.2.1\n",
            "  Using cached importlib_metadata-7.2.1-py3-none-any.whl (25 kB)\n",
            "Requirement already satisfied: zipp>=0.5 in /usr/local/lib/python3.10/dist-packages (from importlib-metadata==7.2.1) (3.19.2)\n",
            "Installing collected packages: importlib-metadata\n",
            "Successfully installed importlib-metadata-7.2.1\n"
          ]
        },
        {
          "output_type": "display_data",
          "data": {
            "application/vnd.colab-display-data+json": {
              "pip_warning": {
                "packages": [
                  "importlib_metadata"
                ]
              },
              "id": "130c9ef81f4941baab7a5afdf67dd1f3"
            }
          },
          "metadata": {}
        }
      ]
    },
    {
      "cell_type": "code",
      "source": [
        "import pandas as pd\n",
        "import numpy as np\n",
        "import pysindy as ps\n",
        "\n",
        "# Load data from the CSV file\n",
        "df = pd.read_csv('qu_solution_Ur_5.csv')\n",
        "\n",
        "# Extract q and u values\n",
        "q_values = df['q'].values.reshape(-1, 1)\n",
        "u_values = df['u'].values.reshape(-1, 1)\n",
        "\n",
        "# Combine q and u into X_train for PySINDy\n",
        "X_train = np.hstack([q_values, u_values])\n",
        "\n",
        "# Time step (assuming uniform time series data)\n",
        "dt = 0.01\n",
        "\n",
        "# Feature names\n",
        "feature_names = ['q', 'u']\n",
        "\n",
        "# Differentiation method\n",
        "differentiation_method = ps.FiniteDifference(order=2)\n",
        "\n",
        "# Optimizer\n",
        "optimizer = ps.STLSQ(threshold=0)\n",
        "\n",
        "# Feature library (polynomial in this case)\n",
        "polynomial_library = ps.PolynomialLibrary(degree=3)\n",
        "\n",
        "# Initialize the SINDy model\n",
        "model = ps.SINDy(feature_names=feature_names, optimizer=optimizer,\n",
        "                 differentiation_method=differentiation_method, feature_library=polynomial_library)\n",
        "\n",
        "# Fit the model to the data\n",
        "model.fit(X_train, t=dt)\n",
        "\n",
        "# Print the model equations\n",
        "model.print()\n"
      ],
      "metadata": {
        "colab": {
          "base_uri": "https://localhost:8080/"
        },
        "id": "Xuh_aJLT0pga",
        "outputId": "7a14d713-f7ec-4169-ebaf-81042ddfb530"
      },
      "execution_count": null,
      "outputs": [
        {
          "output_type": "stream",
          "name": "stdout",
          "text": [
            "(q)' = 0.161 q + 29.359 u + 0.009 q^3 + 0.021 q^2 u + -0.053 q u^2 + 0.005 u^3\n",
            "(u)' = 0.003 1 + -30.844 q + 4.356 u + 0.072 q^3 + -1.048 q^2 u + -0.108 q u^2 + 0.129 u^3\n"
          ]
        }
      ]
    },
    {
      "cell_type": "code",
      "source": [
        "import pandas as pd\n",
        "import numpy as np\n",
        "import pysindy as ps\n",
        "\n",
        "# Load data from the CSV file\n",
        "df = pd.read_csv('qu_solution_Ur_5.csv')\n",
        "\n",
        "# Extract q and u values\n",
        "q_values = df['q'].values.reshape(-1, 1)\n",
        "u_values = df['u'].values.reshape(-1, 1)\n",
        "\n",
        "# Combine q and u into X_train for PySINDy\n",
        "X_train = np.hstack([q_values, u_values])\n",
        "\n",
        "# Time step (assuming uniform time series data)\n",
        "dt = 0.3\n",
        "\n",
        "# Feature names\n",
        "feature_names = ['q', 'u']\n",
        "\n",
        "# Differentiation method\n",
        "differentiation_method = ps.FiniteDifference(order=2)\n",
        "\n",
        "# Optimizer\n",
        "optimizer = ps.STLSQ(threshold=0)\n",
        "\n",
        "# Feature library (polynomial in this case)\n",
        "polynomial_library = ps.FourierLibrary(n_frequencies=2)\n",
        "\n",
        "# Initialize the SINDy model\n",
        "model = ps.SINDy(feature_names=feature_names, optimizer=optimizer,\n",
        "                 differentiation_method=differentiation_method, feature_library=polynomial_library)\n",
        "\n",
        "# Fit the model to the data\n",
        "model.fit(X_train, t=dt)\n",
        "\n",
        "# Print the model equations\n",
        "model.print()\n"
      ],
      "metadata": {
        "colab": {
          "base_uri": "https://localhost:8080/"
        },
        "id": "CRZ9jCsSBDau",
        "outputId": "d8353358-efe1-4110-fd5c-ba4f6944c598"
      },
      "execution_count": null,
      "outputs": [
        {
          "output_type": "stream",
          "name": "stdout",
          "text": [
            "(q)' = 0.171 sin(1 q) + -2.477 sin(1 u) + 0.099 sin(2 q) + -1.116 sin(2 u)\n",
            "(u)' = 3.240 sin(1 q) + -0.794 sin(1 u) + -0.076 sin(2 q) + 1.249 sin(2 u)\n"
          ]
        }
      ]
    },
    {
      "cell_type": "code",
      "source": [
        "np.savetxt('Normalised_csv_file', df_normalized, delimiter = ',')"
      ],
      "metadata": {
        "id": "Z9wB4WZTRz0W"
      },
      "execution_count": null,
      "outputs": []
    },
    {
      "cell_type": "code",
      "source": [
        "import pandas as pd\n",
        "import numpy as np\n",
        "import pysindy as ps\n",
        "\n",
        "\n",
        "df = pd.read_csv('Normalised_csv_file_2')\n",
        "\n",
        "\n",
        "q_values = df.iloc[:, 1].values.reshape(-1, 1)\n",
        "u_values = df.iloc[:, 2].values.reshape(-1, 1)\n",
        "\n",
        "\n",
        "X_train = np.hstack([q_values, u_values])\n",
        "\n",
        "\n",
        "dt = 0.3\n",
        "\n",
        "\n",
        "feature_names = ['q', 'u']\n",
        "\n",
        "\n",
        "differentiation_method = ps.FiniteDifference(order=2)\n",
        "\n",
        "\n",
        "optimizer = ps.STLSQ(threshold=0.1)\n",
        "\n",
        "\n",
        "polynomial_library = ps.PolynomialLibrary(degree = 3)\n",
        "\n",
        "\n",
        "model = ps.SINDy(feature_names=feature_names, optimizer=optimizer,\n",
        "                 differentiation_method=differentiation_method, feature_library=polynomial_library)\n",
        "\n",
        "\n",
        "model.fit(X_train, t=dt)\n",
        "\n",
        "\n",
        "model.print()\n"
      ],
      "metadata": {
        "colab": {
          "base_uri": "https://localhost:8080/"
        },
        "id": "C8ZRPQn5XSyq",
        "outputId": "0c360e16-6bc4-4ecb-c343-2f9bac210824"
      },
      "execution_count": null,
      "outputs": [
        {
          "output_type": "stream",
          "name": "stdout",
          "text": [
            "(q)' = 1.052 u\n",
            "(u)' = -0.902 q + 0.145 u + -0.935 q^2 u + -0.170 q u^2 + 0.137 u^3\n"
          ]
        }
      ]
    },
    {
      "cell_type": "code",
      "source": [
        "import pandas as pd\n",
        "import numpy as np\n",
        "import pysindy as ps\n",
        "\n",
        "# Load data from the CSV file\n",
        "df = pd.read_csv('Normalised_csv_file_2')\n",
        "\n",
        "# Extract q and u values\n",
        "q_values = df.iloc[:, 1].values.reshape(-1, 1)\n",
        "u_values = df.iloc[:, 2].values.reshape(-1, 1)\n",
        "\n",
        "# Combine q and u into X_train for PySINDy\n",
        "X_train = np.hstack([q_values, u_values])\n",
        "\n",
        "# Time step (assuming uniform time series data)\n",
        "dt = 0.3\n",
        "\n",
        "# Feature names\n",
        "feature_names = ['q', 'u']\n",
        "\n",
        "# Differentiation method\n",
        "differentiation_method = ps.FiniteDifference(order=2)\n",
        "\n",
        "# Optimizer\n",
        "optimizer = ps.STLSQ(threshold=0.1)\n",
        "\n",
        "# Feature library (polynomial in this case)\n",
        "polynomial_library = ps.FourierLibrary(n_frequencies = 3)\n",
        "#polynomial_library = ps.PolynomialLirary(degree = 3)\n",
        "\n",
        "# Initialize the SINDy model\n",
        "model = ps.SINDy(feature_names=feature_names, optimizer=optimizer,\n",
        "                 differentiation_method=differentiation_method, feature_library=polynomial_library)\n",
        "\n",
        "# Fit the model to the data\n",
        "model.fit(X_train, t=dt)\n",
        "\n",
        "# Print the model equations\n",
        "model.print()\n"
      ],
      "metadata": {
        "colab": {
          "base_uri": "https://localhost:8080/"
        },
        "id": "Mqgew8wEZROg",
        "outputId": "83f6277b-fff2-4584-b1ec-7ef7fbaf84f4"
      },
      "execution_count": null,
      "outputs": [
        {
          "output_type": "stream",
          "name": "stdout",
          "text": [
            "(q)' = 1.447 sin(1 u) + -0.193 sin(2 u)\n",
            "(u)' = -2.632 sin(1 q) + 2.165 sin(1 u) + 1.539 sin(2 q) + -1.686 sin(2 u) + -0.673 sin(3 q) + 0.132 sin(3 u)\n"
          ]
        }
      ]
    }
  ]
}