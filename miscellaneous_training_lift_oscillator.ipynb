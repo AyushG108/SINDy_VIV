{
  "cells": [
    {
      "cell_type": "code",
      "execution_count": null,
      "id": "602a55f7-5587-4474-8e48-a66dbf20efd0",
      "metadata": {
        "tags": [],
        "id": "602a55f7-5587-4474-8e48-a66dbf20efd0"
      },
      "outputs": [],
      "source": [
        "import pandas as pd\n",
        "data = pd.read_csv('force_Re150.txt', delim_whitespace=True, header=None, names=['Time', 'Cl', 'Cd'])\n",
        "data_filtered = data.iloc[249:]\n",
        "data_filtered.to_csv('force_Re150_filtered.csv', index=False)"
      ]
    },
    {
      "cell_type": "code",
      "execution_count": null,
      "id": "3cc7755d-0698-42b4-a41e-21731060a1a1",
      "metadata": {
        "tags": [],
        "id": "3cc7755d-0698-42b4-a41e-21731060a1a1",
        "outputId": "d5940650-a06e-4bd7-d012-38830faded39"
      },
      "outputs": [
        {
          "name": "stdout",
          "output_type": "stream",
          "text": [
            "1.36259\n",
            "1.419083\n",
            "-0.028361293121365705\n",
            "0.02813170687863442\n",
            "[0.02810371 0.02810271 0.02810171 ... 0.02795471 0.02793471 0.02791071]\n"
          ]
        }
      ],
      "source": [
        "import numpy as np\n",
        "import matplotlib.pyplot as plt\n",
        "import pandas as pd\n",
        "from sklearn.preprocessing import StandardScaler\n",
        "df = pd.read_csv('force_Re150_filtered.csv')\n",
        "df = df[df['Time']>=250]\n",
        "X = df.iloc[:, 1]\n",
        "X.shape\n",
        "print(X.min())\n",
        "print(X.max())\n",
        "X = df.iloc[:, 1]\n",
        "\n",
        "X_centered = X - X.mean()\n",
        "print(X_centered.min())\n",
        "print(X_centered.max())\n",
        "Normalized_X = X_centered.to_numpy()\n",
        "Cl = Normalized_X\n",
        "print(Cl)\n"
      ]
    },
    {
      "cell_type": "code",
      "execution_count": null,
      "id": "26465a18-8a0c-4acb-83f6-5abb0e1b517f",
      "metadata": {
        "tags": [],
        "id": "26465a18-8a0c-4acb-83f6-5abb0e1b517f",
        "outputId": "a2fa4305-be18-4548-89ee-88ce780461ed"
      },
      "outputs": [
        {
          "name": "stdout",
          "output_type": "stream",
          "text": [
            "(Cl)' = 0.333 [-3.33333333e-05 -3.33333333e-05 -6.66666667e-05 ... -6.50000000e-04\n",
            " -7.33333333e-04 -8.00000000e-04] + 0.333 [-3.33333333e-05 -3.33333333e-05 -6.66666667e-05 ... -6.50000000e-04\n",
            " -7.33333333e-04 -8.00000000e-04] + 0.333 [0.02810371 0.02810271 0.02810171 ... 0.02795471 0.02793471 0.02791071]\n",
            "(Cl_dot)' = -0.057 [0.02810371 0.02810271 0.02810171 ... 0.02795471 0.02793471 0.02791071]\n"
          ]
        }
      ],
      "source": [
        "Cl = Normalized_X.T\n",
        "dt = 0.03\n",
        "\n",
        "\n",
        "Cl_dot = np.gradient(Cl, dt)\n",
        "\n",
        "\n",
        "X_train = np.vstack([Cl, Cl_dot]).T\n",
        "\n",
        "differentiation_method = ps.FiniteDifference(order=2)\n",
        "\n",
        "\n",
        "#polynomial_library = ps.PolynomialLibrary(degree = 6)\n",
        "#polynomial_library = ps.FourierLibrary(n_frequencies = 2)\n",
        "\n",
        "lib = [lambda Cl: Cl_dot, lambda Cl: Cl_dot**3, lambda Cl: Cl]\n",
        "library_function_names = [lambda x: Cl_dot, lambda x: Cl_dot**3, lambda x: Cl]\n",
        "custom_library = ps.CustomLibrary(library_functions = lib, function_names = library_function_names)\n",
        "\n",
        "\n",
        "optimizer = ps.STLSQ(threshold=0.01)\n",
        "\n",
        "\n",
        "feature_names = ['Cl', 'Cl_dot']\n",
        "\n",
        "\n",
        "model = ps.SINDy(feature_names=feature_names,\n",
        "                 optimizer=optimizer,\n",
        "                 differentiation_method=differentiation_method,\n",
        "                 feature_library=custom_library)\n",
        "\n",
        "\n",
        "model.fit(X_train, t=dt)\n",
        "\n",
        "\n",
        "model.print()\n"
      ]
    },
    {
      "cell_type": "code",
      "execution_count": null,
      "id": "7c49b658-01f9-411c-8c04-12f947fa09c0",
      "metadata": {
        "tags": [],
        "id": "7c49b658-01f9-411c-8c04-12f947fa09c0",
        "outputId": "36a41685-7e79-4cc7-cf46-76bf22d5d090"
      },
      "outputs": [
        {
          "name": "stdout",
          "output_type": "stream",
          "text": [
            "(Cl)' = 0.239 Cl_dot\n",
            "(Cl_dot)' = 0.169 1 + 0.119 Cl + 1.536 Cl_dot + -0.088 Cl^2 + -0.021 Cl Cl_dot + -0.064 Cl_dot^2 + -0.180 Cl^3 + -0.769 Cl^2 Cl_dot + -0.180 Cl Cl_dot^2 + -0.766 Cl_dot^3\n",
            "[[ 0.          0.          0.23929524  0.          0.          0.\n",
            "   0.          0.          0.          0.        ]\n",
            " [ 0.16875574  0.1187187   1.53592263 -0.08829272 -0.02124782 -0.06360506\n",
            "  -0.17950942 -0.76889592 -0.18048769 -0.76604301]]\n"
          ]
        }
      ],
      "source": [
        "import numpy as np\n",
        "import pysindy as ps\n",
        "from sklearn.preprocessing import StandardScaler\n",
        "\n",
        "# Assuming Normalized_X is your Cl data\n",
        "Cl = Normalized_X.T\n",
        "dt = 0.03\n",
        "\n",
        "# Compute the derivatives\n",
        "Cl_dot = np.gradient(Cl, dt)\n",
        "ddCl = np.gradient(Cl_dot, dt)\n",
        "\n",
        "# Prepare the data for SINDy\n",
        "X_train = np.vstack([Cl, Cl_dot]).T\n",
        "\n",
        "# Polynomial library with degree 3\n",
        "polynomial_library = ps.PolynomialLibrary(degree=3)\n",
        "\n",
        "# Scale the data if necessary\n",
        "scaler = StandardScaler()\n",
        "X_train_scaled = scaler.fit_transform(X_train)\n",
        "\n",
        "# Fit the SINDy model\n",
        "optimizer = ps.STLSQ(threshold=0.01)\n",
        "model = ps.SINDy(feature_names=['Cl', 'Cl_dot'],\n",
        "                 optimizer=optimizer,\n",
        "                 differentiation_method=ps.FiniteDifference(order=3),\n",
        "                 feature_library=polynomial_library)\n",
        "\n",
        "model.fit(X_train_scaled, t=dt)\n",
        "model.print()\n",
        "\n",
        "# Print coefficients for interpretation\n",
        "coefficients = model.coefficients()\n",
        "print(coefficients)\n"
      ]
    },
    {
      "cell_type": "code",
      "execution_count": null,
      "id": "83bda899-0ae2-4e4a-a893-297484bbc0cc",
      "metadata": {
        "tags": [],
        "id": "83bda899-0ae2-4e4a-a893-297484bbc0cc",
        "outputId": "610d963a-c132-4264-99e8-c81dc2602929"
      },
      "outputs": [
        {
          "name": "stdout",
          "output_type": "stream",
          "text": [
            "(Cl)' = 2.393 Cl_dot\n",
            "(Cl_dot)' = -5.112 1 + 4.039 Cl + 2.716 Cl_dot + 5.030 Cl^2 + -0.218 Cl Cl_dot + 5.238 Cl_dot^2 + -1.359 Cl^3 + -2.744 Cl^2 Cl_dot + -7.253 Cl Cl_dot^2 + -2.816 Cl_dot^3 + -1.259 Cl^4 + 0.097 Cl^3 Cl_dot + -2.597 Cl^2 Cl_dot^2 + 0.083 Cl Cl_dot^3 + -1.350 Cl_dot^4 + -0.929 Cl^5 + 0.692 Cl^4 Cl_dot + 1.093 Cl^3 Cl_dot^2 + 1.425 Cl^2 Cl_dot^3 + 2.012 Cl Cl_dot^4 + 0.730 Cl_dot^5\n",
            "[[ 0.00000000e+00  0.00000000e+00  2.39318786e+00  0.00000000e+00\n",
            "   0.00000000e+00  0.00000000e+00  0.00000000e+00 -1.41360855e-04\n",
            "   0.00000000e+00 -1.74515636e-04  0.00000000e+00  0.00000000e+00\n",
            "   0.00000000e+00  0.00000000e+00  0.00000000e+00  0.00000000e+00\n",
            "   3.45608435e-06  0.00000000e+00  2.28619701e-05  0.00000000e+00\n",
            "   1.98923905e-05]\n",
            " [-5.11207908e+00  4.03934201e+00  2.71583184e+00  5.02987552e+00\n",
            "  -2.17835730e-01  5.23769340e+00 -1.35914494e+00 -2.74387834e+00\n",
            "  -7.25294486e+00 -2.81627474e+00 -1.25857305e+00  9.68736476e-02\n",
            "  -2.59726461e+00  8.32694999e-02 -1.34990802e+00 -9.28918399e-01\n",
            "   6.92478948e-01  1.09315750e+00  1.42469776e+00  2.01206771e+00\n",
            "   7.29948667e-01]]\n"
          ]
        }
      ],
      "source": [
        "import numpy as np\n",
        "import pysindy as ps\n",
        "from sklearn.preprocessing import StandardScaler\n",
        "\n",
        "\n",
        "Cl = Normalized_X.T\n",
        "dt = 0.003\n",
        "\n",
        "\n",
        "Cl_dot = np.gradient(Cl, dt)\n",
        "\n",
        "\n",
        "\n",
        "X_train = np.vstack([Cl, Cl_dot]).T\n",
        "\n",
        "\n",
        "polynomial_library = ps.PolynomialLibrary(degree=5)\n",
        "\n",
        "\n",
        "scaler = StandardScaler()\n",
        "X_train_scaled = scaler.fit_transform(X_train)\n",
        "\n",
        "\n",
        "optimizer = ps.STLSQ(threshold=1e-2)\n",
        "model = ps.SINDy(feature_names=['Cl', 'Cl_dot'],\n",
        "                 optimizer=optimizer,\n",
        "                 differentiation_method=ps.FiniteDifference(order=2),\n",
        "                 feature_library=polynomial_library)\n",
        "\n",
        "model.fit(X_train_scaled, t=dt)\n",
        "model.print()\n",
        "\n",
        "\n",
        "coefficients = model.coefficients()\n",
        "print(coefficients)\n"
      ]
    },
    {
      "cell_type": "code",
      "execution_count": null,
      "id": "28c78aac-f5c5-42ac-bef9-ea9e1c84de2c",
      "metadata": {
        "tags": [],
        "id": "28c78aac-f5c5-42ac-bef9-ea9e1c84de2c",
        "outputId": "385ef821-9020-4ba0-b547-99dad6ac2bcc"
      },
      "outputs": [
        {
          "name": "stdout",
          "output_type": "stream",
          "text": [
            "(Cl)' = 2.393 Cl_dot\n",
            "(Cl_dot)' = 0.032 1 + 1.009 Cl + -0.037 Cl_dot + -0.020 Cl^2 + -0.032 Cl Cl_dot + -0.043 Cl_dot^2 + -1.701 Cl^3 + 0.018 Cl^2 Cl_dot + -1.703 Cl Cl_dot^2 + 0.019 Cl_dot^3\n",
            "[[ 0.          0.          2.39291819  0.          0.          0.\n",
            "   0.          0.          0.          0.        ]\n",
            " [ 0.0320494   1.00906876 -0.03708725 -0.02011479 -0.03246118 -0.04276429\n",
            "  -1.70101056  0.01821208 -1.70267436  0.01902039]]\n"
          ]
        }
      ],
      "source": [
        "import numpy as np\n",
        "import pysindy as ps\n",
        "from sklearn.preprocessing import StandardScaler\n",
        "from sklearn.linear_model import Lasso\n",
        "\n",
        "# Assuming Normalized_X is your Cl data\n",
        "Cl = Normalized_X.T\n",
        "dt = 0.003\n",
        "\n",
        "# Compute the derivatives\n",
        "Cl_dot = np.gradient(Cl, dt)\n",
        "ddCl = np.gradient(Cl_dot, dt)\n",
        "\n",
        "# Prepare the data for SINDy\n",
        "X_train = np.vstack([Cl, Cl_dot]).T\n",
        "\n",
        "# Polynomial library with degree 3\n",
        "polynomial_library = ps.PolynomialLibrary(degree=3)\n",
        "\n",
        "# Scale the data if necessary\n",
        "scaler = StandardScaler()\n",
        "X_train_scaled = scaler.fit_transform(X_train)\n",
        "\n",
        "# Create and fit the model\n",
        "lasso_alpha = 0.001\n",
        "# Adjust this value as needed\n",
        "lasso_optimizer = ps.STLSQ(threshold=lasso_alpha)\n",
        "\n",
        "model = ps.SINDy(feature_names=['Cl', 'Cl_dot'],\n",
        "                 optimizer=lasso_optimizer,\n",
        "                 differentiation_method=ps.FiniteDifference(order=2),\n",
        "                 feature_library=polynomial_library)\n",
        "\n",
        "model.fit(X_train_scaled, t=dt)\n",
        "\n",
        "# Print results\n",
        "model.print()\n",
        "\n",
        "# Print coefficients for interpretation\n",
        "coefficients = model.coefficients()\n",
        "print(coefficients)\n"
      ]
    },
    {
      "cell_type": "code",
      "execution_count": null,
      "id": "3a764081-7f2f-4421-ab66-44f176e5ae18",
      "metadata": {
        "id": "3a764081-7f2f-4421-ab66-44f176e5ae18"
      },
      "outputs": [],
      "source": []
    }
  ],
  "metadata": {
    "kernelspec": {
      "display_name": "Python 3 (ipykernel)",
      "language": "python",
      "name": "python3"
    },
    "language_info": {
      "codemirror_mode": {
        "name": "ipython",
        "version": 3
      },
      "file_extension": ".py",
      "mimetype": "text/x-python",
      "name": "python",
      "nbconvert_exporter": "python",
      "pygments_lexer": "ipython3",
      "version": "3.11.5"
    },
    "colab": {
      "provenance": []
    }
  },
  "nbformat": 4,
  "nbformat_minor": 5
}